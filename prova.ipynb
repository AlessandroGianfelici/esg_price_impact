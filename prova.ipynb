{
 "cells": [
  {
   "cell_type": "code",
   "execution_count": null,
   "id": "15378a10",
   "metadata": {},
   "outputs": [],
   "source": [
    "from src.functions import *"
   ]
  },
  {
   "cell_type": "code",
   "execution_count": null,
   "id": "eea6dae4",
   "metadata": {},
   "outputs": [],
   "source": [
    "path = r'C:\\Users\\gianfea\\Documents\\Codici\\personale\\esg_news\\json'"
   ]
  },
  {
   "cell_type": "code",
   "execution_count": null,
   "id": "af4ad88a",
   "metadata": {
    "scrolled": true
   },
   "outputs": [],
   "source": [
    "news = load_news(path)"
   ]
  },
  {
   "cell_type": "code",
   "execution_count": null,
   "id": "b6e44a28",
   "metadata": {},
   "outputs": [],
   "source": [
    "start = datetime(2021, 1, 1)\n",
    "end = datetime.today()\n",
    "ticker = 'ENI.MI'\n",
    "name = 'ENI'\n",
    "\n",
    "df = get_price(ticker, start, end).merge(filter_news(name, news), how='left')"
   ]
  },
  {
   "cell_type": "code",
   "execution_count": null,
   "id": "564919a9",
   "metadata": {},
   "outputs": [],
   "source": [
    "plotCandle(df)"
   ]
  }
 ],
 "metadata": {
  "kernelspec": {
   "display_name": "Python 3",
   "language": "python",
   "name": "python3"
  },
  "language_info": {
   "codemirror_mode": {
    "name": "ipython",
    "version": 3
   },
   "file_extension": ".py",
   "mimetype": "text/x-python",
   "name": "python",
   "nbconvert_exporter": "python",
   "pygments_lexer": "ipython3",
   "version": "3.8.8"
  }
 },
 "nbformat": 4,
 "nbformat_minor": 5
}
